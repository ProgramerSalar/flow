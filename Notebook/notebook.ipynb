{
 "cells": [
  {
   "cell_type": "markdown",
   "id": "9b0cf0d1",
   "metadata": {},
   "source": [
    "## collections.deque()"
   ]
  },
  {
   "cell_type": "markdown",
   "id": "97de5a0a",
   "metadata": {},
   "source": [
    "`deque` (pronounced \"deck\") stands for \"double-ended queue.\" It's a generalization of a stack and a queue, allowing you to add and remove elements from both ends. In Python, `deque` is part of the `collections` module.\n",
    "\n",
    "Here's a breakdown of what it is, where it's used, and why you might use it:\n",
    "\n",
    "### What is `deque`?\n",
    "\n",
    "Think of a regular list or array. If you want to add or remove an element from the beginning of a large list, all subsequent elements need to be shifted, which can be inefficient (O(n) time complexity).\n",
    "\n",
    "A `deque`, on the other hand, is implemented using a doubly linked list. This means that adding or removing elements from *either* end (the \"left\" or \"right\") is an extremely efficient operation, typically taking constant time (O(1)).\n",
    "\n",
    "**Key characteristics:**\n",
    "\n",
    "  * **Appends/Pops from both ends:** You can add elements to the left (`appendleft()`) or right (`append()`), and remove elements from the left (`popleft()`) or right (`pop()`).\n",
    "  * **Efficient:** O(1) time complexity for appending and popping from either end.\n",
    "  * **Iterable:** You can iterate over a `deque` just like a list.\n",
    "  * **Fixed-size (optional):** You can create a `deque` with a `maxlen` argument, which will automatically discard elements from the opposite end when new elements are added, maintaining a fixed size.\n",
    "\n",
    "### Where is `deque` used?\n",
    "\n",
    "`deque` is particularly useful in scenarios where you need efficient additions and removals from both ends of a sequence. Common use cases include:\n",
    "\n",
    "1.  **Implementing Queues and Stacks:**\n",
    "\n",
    "      * **Queue (FIFO - First-In, First-Out):** You can use `append()` to add to one end and `popleft()` to remove from the other. This is more efficient than using a standard list for a queue, where `pop(0)` is slow.\n",
    "      * **Stack (LIFO - Last-In, First-Out):** You can use `append()` to push onto the stack and `pop()` to pop from the stack. While a list is also efficient for a stack (`append()` and `pop()` are O(1)), `deque` offers the flexibility of also being a queue.\n",
    "\n",
    "2.  **Breadth-First Search (BFS) in Graphs and Trees:**\n",
    "\n",
    "      * BFS algorithms explore a graph level by level. A `deque` is ideal for storing the nodes to visit, as you add new neighbors to one end and process nodes from the other.\n",
    "\n",
    "3.  **Recent History or Log Files:**\n",
    "\n",
    "      * If you need to keep track of the last N items (e.g., last 10 commands, last 5 search queries), a `deque` with a `maxlen` is perfect. When a new item is added, the oldest item is automatically discarded.\n",
    "\n",
    "4.  **Sliding Window Problems:**\n",
    "\n",
    "      * In algorithms that involve a \"sliding window\" over a sequence (e.g., finding the maximum in a sliding window), a `deque` can efficiently store and manage elements within that window.\n",
    "\n",
    "5.  **Undo/Redo Functionality:**\n",
    "\n",
    "      * You can use two deques (one for undo, one for redo) to manage actions that can be reversed and then reapplied.\n",
    "\n",
    "6.  **Producer-Consumer Scenarios:**\n",
    "\n",
    "      * When one part of your program produces data and another consumes it, a `deque` can act as a thread-safe buffer (though in multi-threaded contexts, you'd typically use `queue.Queue` for thread safety, which often uses a `deque` internally).\n",
    "\n",
    "### Why use `deque`?\n",
    "\n",
    "You should use `deque` when:\n",
    "\n",
    "1.  **Performance is critical for appends/pops from both ends:** If your operations primarily involve adding or removing elements from the beginning or end of a sequence, `deque` will significantly outperform a standard Python list.\n",
    "\n",
    "      * **List `insert(0, item)` and `pop(0)` are O(n).**\n",
    "      * **`deque` `appendleft()` and `popleft()` are O(1).**\n",
    "      * **List `append()` and `pop()` are O(1).**\n",
    "      * **`deque` `append()` and `pop()` are O(1).**\n",
    "\n",
    "2.  **You need a fixed-size collection that automatically discards old items:** The `maxlen` argument is a very convenient feature for managing limited-size historical data.\n",
    "\n",
    "3.  **You are implementing algorithms that naturally fit the double-ended queue pattern:** As seen in BFS, sliding windows, and undo/redo systems.\n",
    "\n",
    "**Example of `deque` usage:**\n",
    "\n",
    "```python\n",
    "from collections import deque\n",
    "\n",
    "# Basic deque\n",
    "d = deque()\n",
    "d.append('a')\n",
    "d.append('b')\n",
    "d.appendleft('c')\n",
    "print(d)  # deque(['c', 'a', 'b'])\n",
    "\n",
    "d.pop()\n",
    "print(d)  # deque(['c', 'a'])\n",
    "\n",
    "d.popleft()\n",
    "print(d)  # deque(['a'])\n",
    "\n",
    "# Deque with a maximum length\n",
    "history = deque(maxlen=3)\n",
    "history.append('search 1')\n",
    "history.append('search 2')\n",
    "history.append('search 3')\n",
    "print(history)  # deque(['search 1', 'search 2', 'search 3'])\n",
    "\n",
    "history.append('search 4')\n",
    "print(history)  # deque(['search 2', 'search 3', 'search 4'])\n",
    "# 'search 1' was automatically discarded\n",
    "\n",
    "```"
   ]
  },
  {
   "cell_type": "code",
   "execution_count": 16,
   "id": "82676b8b",
   "metadata": {},
   "outputs": [
    {
     "name": "stdout",
     "output_type": "stream",
     "text": [
      "G\n",
      "H\n",
      "I\n"
     ]
    }
   ],
   "source": [
    "from collections import deque\n",
    "\n",
    "# make a new deque with three items \n",
    "d = deque('ghi')\n",
    "\n",
    "for element in d:\n",
    "    print(element.upper())\n",
    "\n",
    "    "
   ]
  },
  {
   "cell_type": "code",
   "execution_count": 18,
   "id": "f5c5619f",
   "metadata": {},
   "outputs": [
    {
     "name": "stdout",
     "output_type": "stream",
     "text": [
      "deque(['g', 'h', 'i'])\n",
      "deque(['g', 'h', 'i'])\n"
     ]
    }
   ],
   "source": [
    "# add a new entry to the right side \n",
    "d.append('j')\n",
    "\n",
    "# add new entry to the left side \n",
    "d.appendleft('f')\n",
    "\n",
    "\n",
    "# remvoe the right item \n",
    "d.pop()\n",
    "\n",
    "# remove the lift item \n",
    "d.popleft()\n",
    "\n",
    "\n",
    "# list the content from the deque \n",
    "list(d)\n",
    "\n",
    "print(d)\n"
   ]
  },
  {
   "cell_type": "code",
   "execution_count": null,
   "id": "5a0c9038",
   "metadata": {},
   "outputs": [],
   "source": []
  }
 ],
 "metadata": {
  "kernelspec": {
   "display_name": "cuda121",
   "language": "python",
   "name": "python3"
  },
  "language_info": {
   "codemirror_mode": {
    "name": "ipython",
    "version": 3
   },
   "file_extension": ".py",
   "mimetype": "text/x-python",
   "name": "python",
   "nbconvert_exporter": "python",
   "pygments_lexer": "ipython3",
   "version": "3.10.16"
  }
 },
 "nbformat": 4,
 "nbformat_minor": 5
}
